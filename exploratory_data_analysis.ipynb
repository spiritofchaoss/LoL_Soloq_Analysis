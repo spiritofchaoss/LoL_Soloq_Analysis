{
 "cells": [
  {
   "cell_type": "code",
   "execution_count": 1,
   "metadata": {},
   "outputs": [],
   "source": [
    "import pandas as pd\n",
    "import matplotlib as mlp\n",
    "import matplotlib.pyplot as plt"
   ]
  },
  {
   "cell_type": "code",
   "execution_count": 2,
   "metadata": {},
   "outputs": [],
   "source": [
    "df = pd.read_csv('master_data_soloq.csv')"
   ]
  },
  {
   "cell_type": "code",
   "execution_count": 3,
   "metadata": {},
   "outputs": [
    {
     "data": {
      "text/html": [
       "<div>\n",
       "<style scoped>\n",
       "    .dataframe tbody tr th:only-of-type {\n",
       "        vertical-align: middle;\n",
       "    }\n",
       "\n",
       "    .dataframe tbody tr th {\n",
       "        vertical-align: top;\n",
       "    }\n",
       "\n",
       "    .dataframe thead th {\n",
       "        text-align: right;\n",
       "    }\n",
       "</style>\n",
       "<table border=\"1\" class=\"dataframe\">\n",
       "  <thead>\n",
       "    <tr style=\"text-align: right;\">\n",
       "      <th></th>\n",
       "      <th>Unnamed: 0</th>\n",
       "      <th>teamId</th>\n",
       "      <th>participantId</th>\n",
       "      <th>champion</th>\n",
       "      <th>role</th>\n",
       "      <th>lane</th>\n",
       "      <th>spell1</th>\n",
       "      <th>spell2</th>\n",
       "      <th>item1</th>\n",
       "      <th>item2</th>\n",
       "      <th>...</th>\n",
       "      <th>summonerSpell2</th>\n",
       "      <th>team</th>\n",
       "      <th>keystone</th>\n",
       "      <th>item-1</th>\n",
       "      <th>item-2</th>\n",
       "      <th>item-3</th>\n",
       "      <th>item-4</th>\n",
       "      <th>item-5</th>\n",
       "      <th>item-6</th>\n",
       "      <th>item-7</th>\n",
       "    </tr>\n",
       "  </thead>\n",
       "  <tbody>\n",
       "    <tr>\n",
       "      <th>0</th>\n",
       "      <td>{'summonerName': 'Mashuu'}</td>\n",
       "      <td>100</td>\n",
       "      <td>1</td>\n",
       "      <td>235</td>\n",
       "      <td>DUO_SUPPORT</td>\n",
       "      <td>BOTTOM</td>\n",
       "      <td>21</td>\n",
       "      <td>4</td>\n",
       "      <td>2420</td>\n",
       "      <td>3864</td>\n",
       "      <td>...</td>\n",
       "      <td>Flash</td>\n",
       "      <td>Blue</td>\n",
       "      <td>Glacial Augment</td>\n",
       "      <td>Stopwatch</td>\n",
       "      <td>Black Mist Scythe</td>\n",
       "      <td>Duskblade of Draktharr</td>\n",
       "      <td>Umbral Glaive</td>\n",
       "      <td>Essence Reaver</td>\n",
       "      <td>Boots of Swiftness</td>\n",
       "      <td>Oracle Lens</td>\n",
       "    </tr>\n",
       "    <tr>\n",
       "      <th>1</th>\n",
       "      <td>{'summonerName': 'ìrelia'}</td>\n",
       "      <td>100</td>\n",
       "      <td>2</td>\n",
       "      <td>268</td>\n",
       "      <td>SOLO</td>\n",
       "      <td>TOP</td>\n",
       "      <td>12</td>\n",
       "      <td>4</td>\n",
       "      <td>1056</td>\n",
       "      <td>3157</td>\n",
       "      <td>...</td>\n",
       "      <td>Flash</td>\n",
       "      <td>Blue</td>\n",
       "      <td>Hail of Blades</td>\n",
       "      <td>Doran's Ring</td>\n",
       "      <td>Zhonya's Hourglass</td>\n",
       "      <td>Sorcerer's Shoes</td>\n",
       "      <td>Fiendish Codex</td>\n",
       "      <td>Stinger</td>\n",
       "      <td>Doran's Ring</td>\n",
       "      <td>Warding Totem (Trinket)</td>\n",
       "    </tr>\n",
       "    <tr>\n",
       "      <th>2</th>\n",
       "      <td>{'summonerName': 'Kyulkyung'}</td>\n",
       "      <td>100</td>\n",
       "      <td>3</td>\n",
       "      <td>61</td>\n",
       "      <td>SOLO</td>\n",
       "      <td>MIDDLE</td>\n",
       "      <td>4</td>\n",
       "      <td>12</td>\n",
       "      <td>3020</td>\n",
       "      <td>3157</td>\n",
       "      <td>...</td>\n",
       "      <td>Teleport</td>\n",
       "      <td>Blue</td>\n",
       "      <td>Phase Rush</td>\n",
       "      <td>Sorcerer's Shoes</td>\n",
       "      <td>Zhonya's Hourglass</td>\n",
       "      <td>Health Potion</td>\n",
       "      <td>Luden's Echo</td>\n",
       "      <td>NaN</td>\n",
       "      <td>NaN</td>\n",
       "      <td>Warding Totem (Trinket)</td>\n",
       "    </tr>\n",
       "    <tr>\n",
       "      <th>3</th>\n",
       "      <td>{'summonerName': 'yohanswer'}</td>\n",
       "      <td>100</td>\n",
       "      <td>4</td>\n",
       "      <td>62</td>\n",
       "      <td>NONE</td>\n",
       "      <td>JUNGLE</td>\n",
       "      <td>11</td>\n",
       "      <td>4</td>\n",
       "      <td>3134</td>\n",
       "      <td>2055</td>\n",
       "      <td>...</td>\n",
       "      <td>Flash</td>\n",
       "      <td>Blue</td>\n",
       "      <td>Conqueror</td>\n",
       "      <td>Serrated Dirk</td>\n",
       "      <td>Control Ward</td>\n",
       "      <td>Mercury's Treads</td>\n",
       "      <td>Trinity Force</td>\n",
       "      <td>Enchantment: Warrior</td>\n",
       "      <td>NaN</td>\n",
       "      <td>Oracle Lens</td>\n",
       "    </tr>\n",
       "    <tr>\n",
       "      <th>4</th>\n",
       "      <td>{'summonerName': 'Clutchreal'}</td>\n",
       "      <td>100</td>\n",
       "      <td>5</td>\n",
       "      <td>81</td>\n",
       "      <td>DUO_CARRY</td>\n",
       "      <td>BOTTOM</td>\n",
       "      <td>4</td>\n",
       "      <td>7</td>\n",
       "      <td>3042</td>\n",
       "      <td>0</td>\n",
       "      <td>...</td>\n",
       "      <td>Heal</td>\n",
       "      <td>Blue</td>\n",
       "      <td>Conqueror</td>\n",
       "      <td>Muramana</td>\n",
       "      <td>NaN</td>\n",
       "      <td>Death's Dance</td>\n",
       "      <td>Trinity Force</td>\n",
       "      <td>NaN</td>\n",
       "      <td>Ionian Boots of Lucidity</td>\n",
       "      <td>Farsight Alteration</td>\n",
       "    </tr>\n",
       "    <tr>\n",
       "      <th>...</th>\n",
       "      <td>...</td>\n",
       "      <td>...</td>\n",
       "      <td>...</td>\n",
       "      <td>...</td>\n",
       "      <td>...</td>\n",
       "      <td>...</td>\n",
       "      <td>...</td>\n",
       "      <td>...</td>\n",
       "      <td>...</td>\n",
       "      <td>...</td>\n",
       "      <td>...</td>\n",
       "      <td>...</td>\n",
       "      <td>...</td>\n",
       "      <td>...</td>\n",
       "      <td>...</td>\n",
       "      <td>...</td>\n",
       "      <td>...</td>\n",
       "      <td>...</td>\n",
       "      <td>...</td>\n",
       "      <td>...</td>\n",
       "      <td>...</td>\n",
       "    </tr>\n",
       "    <tr>\n",
       "      <th>975</th>\n",
       "      <td>{'summonerName': 'BBoyoungg'}</td>\n",
       "      <td>200</td>\n",
       "      <td>6</td>\n",
       "      <td>203</td>\n",
       "      <td>NONE</td>\n",
       "      <td>JUNGLE</td>\n",
       "      <td>11</td>\n",
       "      <td>4</td>\n",
       "      <td>1412</td>\n",
       "      <td>3071</td>\n",
       "      <td>...</td>\n",
       "      <td>Flash</td>\n",
       "      <td>Red</td>\n",
       "      <td>Conqueror</td>\n",
       "      <td>Enchantment: Warrior</td>\n",
       "      <td>Black Cleaver</td>\n",
       "      <td>Blade of the Ruined King</td>\n",
       "      <td>Dagger</td>\n",
       "      <td>Negatron Cloak</td>\n",
       "      <td>Berserker's Greaves</td>\n",
       "      <td>Oracle Lens</td>\n",
       "    </tr>\n",
       "    <tr>\n",
       "      <th>976</th>\n",
       "      <td>{'summonerName': 'ìrelia'}</td>\n",
       "      <td>200</td>\n",
       "      <td>7</td>\n",
       "      <td>268</td>\n",
       "      <td>SOLO</td>\n",
       "      <td>MIDDLE</td>\n",
       "      <td>12</td>\n",
       "      <td>4</td>\n",
       "      <td>1056</td>\n",
       "      <td>3191</td>\n",
       "      <td>...</td>\n",
       "      <td>Flash</td>\n",
       "      <td>Red</td>\n",
       "      <td>Lethal Tempo</td>\n",
       "      <td>Doran's Ring</td>\n",
       "      <td>Seeker's Armguard</td>\n",
       "      <td>Nashor's Tooth</td>\n",
       "      <td>Fiendish Codex</td>\n",
       "      <td>Sorcerer's Shoes</td>\n",
       "      <td>Lost Chapter</td>\n",
       "      <td>Warding Totem (Trinket)</td>\n",
       "    </tr>\n",
       "    <tr>\n",
       "      <th>977</th>\n",
       "      <td>{'summonerName': 'MissedLight'}</td>\n",
       "      <td>200</td>\n",
       "      <td>8</td>\n",
       "      <td>51</td>\n",
       "      <td>DUO_CARRY</td>\n",
       "      <td>BOTTOM</td>\n",
       "      <td>7</td>\n",
       "      <td>4</td>\n",
       "      <td>2424</td>\n",
       "      <td>3095</td>\n",
       "      <td>...</td>\n",
       "      <td>Flash</td>\n",
       "      <td>Red</td>\n",
       "      <td>Dark Harvest</td>\n",
       "      <td>Broken Stopwatch</td>\n",
       "      <td>Stormrazor</td>\n",
       "      <td>Berserker's Greaves</td>\n",
       "      <td>Doran's Blade</td>\n",
       "      <td>Cull</td>\n",
       "      <td>B. F. Sword</td>\n",
       "      <td>Warding Totem (Trinket)</td>\n",
       "    </tr>\n",
       "    <tr>\n",
       "      <th>978</th>\n",
       "      <td>{'summonerName': 'EliteLand'}</td>\n",
       "      <td>200</td>\n",
       "      <td>9</td>\n",
       "      <td>119</td>\n",
       "      <td>SOLO</td>\n",
       "      <td>TOP</td>\n",
       "      <td>4</td>\n",
       "      <td>7</td>\n",
       "      <td>3147</td>\n",
       "      <td>3072</td>\n",
       "      <td>...</td>\n",
       "      <td>Heal</td>\n",
       "      <td>Red</td>\n",
       "      <td>Press the Attack</td>\n",
       "      <td>Duskblade of Draktharr</td>\n",
       "      <td>Bloodthirster</td>\n",
       "      <td>Berserker's Greaves</td>\n",
       "      <td>Doran's Shield</td>\n",
       "      <td>B. F. Sword</td>\n",
       "      <td>Pickaxe</td>\n",
       "      <td>Farsight Alteration</td>\n",
       "    </tr>\n",
       "    <tr>\n",
       "      <th>979</th>\n",
       "      <td>{'summonerName': 'NoEaze'}</td>\n",
       "      <td>200</td>\n",
       "      <td>10</td>\n",
       "      <td>235</td>\n",
       "      <td>DUO_SUPPORT</td>\n",
       "      <td>BOTTOM</td>\n",
       "      <td>3</td>\n",
       "      <td>4</td>\n",
       "      <td>3179</td>\n",
       "      <td>3111</td>\n",
       "      <td>...</td>\n",
       "      <td>Flash</td>\n",
       "      <td>Red</td>\n",
       "      <td>Summon Aery</td>\n",
       "      <td>Umbral Glaive</td>\n",
       "      <td>Mercury's Treads</td>\n",
       "      <td>Chalice of Harmony</td>\n",
       "      <td>Harrowing Crescent</td>\n",
       "      <td>Control Ward</td>\n",
       "      <td>NaN</td>\n",
       "      <td>Warding Totem (Trinket)</td>\n",
       "    </tr>\n",
       "  </tbody>\n",
       "</table>\n",
       "<p>980 rows × 74 columns</p>\n",
       "</div>"
      ],
      "text/plain": [
       "                          Unnamed: 0  teamId  participantId  champion  \\\n",
       "0         {'summonerName': 'Mashuu'}     100              1       235   \n",
       "1         {'summonerName': 'ìrelia'}     100              2       268   \n",
       "2      {'summonerName': 'Kyulkyung'}     100              3        61   \n",
       "3      {'summonerName': 'yohanswer'}     100              4        62   \n",
       "4     {'summonerName': 'Clutchreal'}     100              5        81   \n",
       "..                               ...     ...            ...       ...   \n",
       "975    {'summonerName': 'BBoyoungg'}     200              6       203   \n",
       "976       {'summonerName': 'ìrelia'}     200              7       268   \n",
       "977  {'summonerName': 'MissedLight'}     200              8        51   \n",
       "978    {'summonerName': 'EliteLand'}     200              9       119   \n",
       "979       {'summonerName': 'NoEaze'}     200             10       235   \n",
       "\n",
       "            role    lane  spell1  spell2  item1  item2  ...  summonerSpell2  \\\n",
       "0    DUO_SUPPORT  BOTTOM      21       4   2420   3864  ...           Flash   \n",
       "1           SOLO     TOP      12       4   1056   3157  ...           Flash   \n",
       "2           SOLO  MIDDLE       4      12   3020   3157  ...        Teleport   \n",
       "3           NONE  JUNGLE      11       4   3134   2055  ...           Flash   \n",
       "4      DUO_CARRY  BOTTOM       4       7   3042      0  ...            Heal   \n",
       "..           ...     ...     ...     ...    ...    ...  ...             ...   \n",
       "975         NONE  JUNGLE      11       4   1412   3071  ...           Flash   \n",
       "976         SOLO  MIDDLE      12       4   1056   3191  ...           Flash   \n",
       "977    DUO_CARRY  BOTTOM       7       4   2424   3095  ...           Flash   \n",
       "978         SOLO     TOP       4       7   3147   3072  ...            Heal   \n",
       "979  DUO_SUPPORT  BOTTOM       3       4   3179   3111  ...           Flash   \n",
       "\n",
       "     team          keystone                  item-1              item-2  \\\n",
       "0    Blue   Glacial Augment               Stopwatch   Black Mist Scythe   \n",
       "1    Blue    Hail of Blades            Doran's Ring  Zhonya's Hourglass   \n",
       "2    Blue        Phase Rush        Sorcerer's Shoes  Zhonya's Hourglass   \n",
       "3    Blue         Conqueror           Serrated Dirk        Control Ward   \n",
       "4    Blue         Conqueror                Muramana                 NaN   \n",
       "..    ...               ...                     ...                 ...   \n",
       "975   Red         Conqueror    Enchantment: Warrior       Black Cleaver   \n",
       "976   Red      Lethal Tempo            Doran's Ring   Seeker's Armguard   \n",
       "977   Red      Dark Harvest        Broken Stopwatch          Stormrazor   \n",
       "978   Red  Press the Attack  Duskblade of Draktharr       Bloodthirster   \n",
       "979   Red       Summon Aery           Umbral Glaive    Mercury's Treads   \n",
       "\n",
       "                       item-3              item-4                item-5  \\\n",
       "0      Duskblade of Draktharr       Umbral Glaive        Essence Reaver   \n",
       "1            Sorcerer's Shoes      Fiendish Codex               Stinger   \n",
       "2               Health Potion        Luden's Echo                   NaN   \n",
       "3            Mercury's Treads       Trinity Force  Enchantment: Warrior   \n",
       "4               Death's Dance       Trinity Force                   NaN   \n",
       "..                        ...                 ...                   ...   \n",
       "975  Blade of the Ruined King              Dagger        Negatron Cloak   \n",
       "976            Nashor's Tooth      Fiendish Codex      Sorcerer's Shoes   \n",
       "977       Berserker's Greaves       Doran's Blade                  Cull   \n",
       "978       Berserker's Greaves      Doran's Shield           B. F. Sword   \n",
       "979        Chalice of Harmony  Harrowing Crescent          Control Ward   \n",
       "\n",
       "                       item-6                   item-7  \n",
       "0          Boots of Swiftness              Oracle Lens  \n",
       "1                Doran's Ring  Warding Totem (Trinket)  \n",
       "2                         NaN  Warding Totem (Trinket)  \n",
       "3                         NaN              Oracle Lens  \n",
       "4    Ionian Boots of Lucidity      Farsight Alteration  \n",
       "..                        ...                      ...  \n",
       "975       Berserker's Greaves              Oracle Lens  \n",
       "976              Lost Chapter  Warding Totem (Trinket)  \n",
       "977               B. F. Sword  Warding Totem (Trinket)  \n",
       "978                   Pickaxe      Farsight Alteration  \n",
       "979                       NaN  Warding Totem (Trinket)  \n",
       "\n",
       "[980 rows x 74 columns]"
      ]
     },
     "execution_count": 3,
     "metadata": {},
     "output_type": "execute_result"
    }
   ],
   "source": [
    "df"
   ]
  },
  {
   "cell_type": "code",
   "execution_count": 4,
   "metadata": {},
   "outputs": [],
   "source": [
    "df.rename(columns={'Unnamed: 0' : 'Summoner Id'},inplace=True)"
   ]
  },
  {
   "cell_type": "code",
   "execution_count": 5,
   "metadata": {},
   "outputs": [
    {
     "data": {
      "text/html": [
       "<div>\n",
       "<style scoped>\n",
       "    .dataframe tbody tr th:only-of-type {\n",
       "        vertical-align: middle;\n",
       "    }\n",
       "\n",
       "    .dataframe tbody tr th {\n",
       "        vertical-align: top;\n",
       "    }\n",
       "\n",
       "    .dataframe thead th {\n",
       "        text-align: right;\n",
       "    }\n",
       "</style>\n",
       "<table border=\"1\" class=\"dataframe\">\n",
       "  <thead>\n",
       "    <tr style=\"text-align: right;\">\n",
       "      <th></th>\n",
       "      <th>Summoner Id</th>\n",
       "      <th>teamId</th>\n",
       "      <th>participantId</th>\n",
       "      <th>champion</th>\n",
       "      <th>role</th>\n",
       "      <th>lane</th>\n",
       "      <th>spell1</th>\n",
       "      <th>spell2</th>\n",
       "      <th>item1</th>\n",
       "      <th>item2</th>\n",
       "      <th>...</th>\n",
       "      <th>summonerSpell2</th>\n",
       "      <th>team</th>\n",
       "      <th>keystone</th>\n",
       "      <th>item-1</th>\n",
       "      <th>item-2</th>\n",
       "      <th>item-3</th>\n",
       "      <th>item-4</th>\n",
       "      <th>item-5</th>\n",
       "      <th>item-6</th>\n",
       "      <th>item-7</th>\n",
       "    </tr>\n",
       "  </thead>\n",
       "  <tbody>\n",
       "    <tr>\n",
       "      <th>0</th>\n",
       "      <td>Mashuu</td>\n",
       "      <td>100</td>\n",
       "      <td>1</td>\n",
       "      <td>235</td>\n",
       "      <td>DUO_SUPPORT</td>\n",
       "      <td>BOTTOM</td>\n",
       "      <td>21</td>\n",
       "      <td>4</td>\n",
       "      <td>2420</td>\n",
       "      <td>3864</td>\n",
       "      <td>...</td>\n",
       "      <td>Flash</td>\n",
       "      <td>Blue</td>\n",
       "      <td>Glacial Augment</td>\n",
       "      <td>Stopwatch</td>\n",
       "      <td>Black Mist Scythe</td>\n",
       "      <td>Duskblade of Draktharr</td>\n",
       "      <td>Umbral Glaive</td>\n",
       "      <td>Essence Reaver</td>\n",
       "      <td>Boots of Swiftness</td>\n",
       "      <td>Oracle Lens</td>\n",
       "    </tr>\n",
       "    <tr>\n",
       "      <th>1</th>\n",
       "      <td>ìrelia</td>\n",
       "      <td>100</td>\n",
       "      <td>2</td>\n",
       "      <td>268</td>\n",
       "      <td>SOLO</td>\n",
       "      <td>TOP</td>\n",
       "      <td>12</td>\n",
       "      <td>4</td>\n",
       "      <td>1056</td>\n",
       "      <td>3157</td>\n",
       "      <td>...</td>\n",
       "      <td>Flash</td>\n",
       "      <td>Blue</td>\n",
       "      <td>Hail of Blades</td>\n",
       "      <td>Doran's Ring</td>\n",
       "      <td>Zhonya's Hourglass</td>\n",
       "      <td>Sorcerer's Shoes</td>\n",
       "      <td>Fiendish Codex</td>\n",
       "      <td>Stinger</td>\n",
       "      <td>Doran's Ring</td>\n",
       "      <td>Warding Totem (Trinket)</td>\n",
       "    </tr>\n",
       "    <tr>\n",
       "      <th>2</th>\n",
       "      <td>Kyulkyung</td>\n",
       "      <td>100</td>\n",
       "      <td>3</td>\n",
       "      <td>61</td>\n",
       "      <td>SOLO</td>\n",
       "      <td>MIDDLE</td>\n",
       "      <td>4</td>\n",
       "      <td>12</td>\n",
       "      <td>3020</td>\n",
       "      <td>3157</td>\n",
       "      <td>...</td>\n",
       "      <td>Teleport</td>\n",
       "      <td>Blue</td>\n",
       "      <td>Phase Rush</td>\n",
       "      <td>Sorcerer's Shoes</td>\n",
       "      <td>Zhonya's Hourglass</td>\n",
       "      <td>Health Potion</td>\n",
       "      <td>Luden's Echo</td>\n",
       "      <td>NaN</td>\n",
       "      <td>NaN</td>\n",
       "      <td>Warding Totem (Trinket)</td>\n",
       "    </tr>\n",
       "    <tr>\n",
       "      <th>3</th>\n",
       "      <td>yohanswer</td>\n",
       "      <td>100</td>\n",
       "      <td>4</td>\n",
       "      <td>62</td>\n",
       "      <td>NONE</td>\n",
       "      <td>JUNGLE</td>\n",
       "      <td>11</td>\n",
       "      <td>4</td>\n",
       "      <td>3134</td>\n",
       "      <td>2055</td>\n",
       "      <td>...</td>\n",
       "      <td>Flash</td>\n",
       "      <td>Blue</td>\n",
       "      <td>Conqueror</td>\n",
       "      <td>Serrated Dirk</td>\n",
       "      <td>Control Ward</td>\n",
       "      <td>Mercury's Treads</td>\n",
       "      <td>Trinity Force</td>\n",
       "      <td>Enchantment: Warrior</td>\n",
       "      <td>NaN</td>\n",
       "      <td>Oracle Lens</td>\n",
       "    </tr>\n",
       "    <tr>\n",
       "      <th>4</th>\n",
       "      <td>Clutchreal</td>\n",
       "      <td>100</td>\n",
       "      <td>5</td>\n",
       "      <td>81</td>\n",
       "      <td>DUO_CARRY</td>\n",
       "      <td>BOTTOM</td>\n",
       "      <td>4</td>\n",
       "      <td>7</td>\n",
       "      <td>3042</td>\n",
       "      <td>0</td>\n",
       "      <td>...</td>\n",
       "      <td>Heal</td>\n",
       "      <td>Blue</td>\n",
       "      <td>Conqueror</td>\n",
       "      <td>Muramana</td>\n",
       "      <td>NaN</td>\n",
       "      <td>Death's Dance</td>\n",
       "      <td>Trinity Force</td>\n",
       "      <td>NaN</td>\n",
       "      <td>Ionian Boots of Lucidity</td>\n",
       "      <td>Farsight Alteration</td>\n",
       "    </tr>\n",
       "    <tr>\n",
       "      <th>...</th>\n",
       "      <td>...</td>\n",
       "      <td>...</td>\n",
       "      <td>...</td>\n",
       "      <td>...</td>\n",
       "      <td>...</td>\n",
       "      <td>...</td>\n",
       "      <td>...</td>\n",
       "      <td>...</td>\n",
       "      <td>...</td>\n",
       "      <td>...</td>\n",
       "      <td>...</td>\n",
       "      <td>...</td>\n",
       "      <td>...</td>\n",
       "      <td>...</td>\n",
       "      <td>...</td>\n",
       "      <td>...</td>\n",
       "      <td>...</td>\n",
       "      <td>...</td>\n",
       "      <td>...</td>\n",
       "      <td>...</td>\n",
       "      <td>...</td>\n",
       "    </tr>\n",
       "    <tr>\n",
       "      <th>975</th>\n",
       "      <td>BBoyoungg</td>\n",
       "      <td>200</td>\n",
       "      <td>6</td>\n",
       "      <td>203</td>\n",
       "      <td>NONE</td>\n",
       "      <td>JUNGLE</td>\n",
       "      <td>11</td>\n",
       "      <td>4</td>\n",
       "      <td>1412</td>\n",
       "      <td>3071</td>\n",
       "      <td>...</td>\n",
       "      <td>Flash</td>\n",
       "      <td>Red</td>\n",
       "      <td>Conqueror</td>\n",
       "      <td>Enchantment: Warrior</td>\n",
       "      <td>Black Cleaver</td>\n",
       "      <td>Blade of the Ruined King</td>\n",
       "      <td>Dagger</td>\n",
       "      <td>Negatron Cloak</td>\n",
       "      <td>Berserker's Greaves</td>\n",
       "      <td>Oracle Lens</td>\n",
       "    </tr>\n",
       "    <tr>\n",
       "      <th>976</th>\n",
       "      <td>ìrelia</td>\n",
       "      <td>200</td>\n",
       "      <td>7</td>\n",
       "      <td>268</td>\n",
       "      <td>SOLO</td>\n",
       "      <td>MIDDLE</td>\n",
       "      <td>12</td>\n",
       "      <td>4</td>\n",
       "      <td>1056</td>\n",
       "      <td>3191</td>\n",
       "      <td>...</td>\n",
       "      <td>Flash</td>\n",
       "      <td>Red</td>\n",
       "      <td>Lethal Tempo</td>\n",
       "      <td>Doran's Ring</td>\n",
       "      <td>Seeker's Armguard</td>\n",
       "      <td>Nashor's Tooth</td>\n",
       "      <td>Fiendish Codex</td>\n",
       "      <td>Sorcerer's Shoes</td>\n",
       "      <td>Lost Chapter</td>\n",
       "      <td>Warding Totem (Trinket)</td>\n",
       "    </tr>\n",
       "    <tr>\n",
       "      <th>977</th>\n",
       "      <td>MissedLight</td>\n",
       "      <td>200</td>\n",
       "      <td>8</td>\n",
       "      <td>51</td>\n",
       "      <td>DUO_CARRY</td>\n",
       "      <td>BOTTOM</td>\n",
       "      <td>7</td>\n",
       "      <td>4</td>\n",
       "      <td>2424</td>\n",
       "      <td>3095</td>\n",
       "      <td>...</td>\n",
       "      <td>Flash</td>\n",
       "      <td>Red</td>\n",
       "      <td>Dark Harvest</td>\n",
       "      <td>Broken Stopwatch</td>\n",
       "      <td>Stormrazor</td>\n",
       "      <td>Berserker's Greaves</td>\n",
       "      <td>Doran's Blade</td>\n",
       "      <td>Cull</td>\n",
       "      <td>B. F. Sword</td>\n",
       "      <td>Warding Totem (Trinket)</td>\n",
       "    </tr>\n",
       "    <tr>\n",
       "      <th>978</th>\n",
       "      <td>EliteLand</td>\n",
       "      <td>200</td>\n",
       "      <td>9</td>\n",
       "      <td>119</td>\n",
       "      <td>SOLO</td>\n",
       "      <td>TOP</td>\n",
       "      <td>4</td>\n",
       "      <td>7</td>\n",
       "      <td>3147</td>\n",
       "      <td>3072</td>\n",
       "      <td>...</td>\n",
       "      <td>Heal</td>\n",
       "      <td>Red</td>\n",
       "      <td>Press the Attack</td>\n",
       "      <td>Duskblade of Draktharr</td>\n",
       "      <td>Bloodthirster</td>\n",
       "      <td>Berserker's Greaves</td>\n",
       "      <td>Doran's Shield</td>\n",
       "      <td>B. F. Sword</td>\n",
       "      <td>Pickaxe</td>\n",
       "      <td>Farsight Alteration</td>\n",
       "    </tr>\n",
       "    <tr>\n",
       "      <th>979</th>\n",
       "      <td>NoEaze</td>\n",
       "      <td>200</td>\n",
       "      <td>10</td>\n",
       "      <td>235</td>\n",
       "      <td>DUO_SUPPORT</td>\n",
       "      <td>BOTTOM</td>\n",
       "      <td>3</td>\n",
       "      <td>4</td>\n",
       "      <td>3179</td>\n",
       "      <td>3111</td>\n",
       "      <td>...</td>\n",
       "      <td>Flash</td>\n",
       "      <td>Red</td>\n",
       "      <td>Summon Aery</td>\n",
       "      <td>Umbral Glaive</td>\n",
       "      <td>Mercury's Treads</td>\n",
       "      <td>Chalice of Harmony</td>\n",
       "      <td>Harrowing Crescent</td>\n",
       "      <td>Control Ward</td>\n",
       "      <td>NaN</td>\n",
       "      <td>Warding Totem (Trinket)</td>\n",
       "    </tr>\n",
       "  </tbody>\n",
       "</table>\n",
       "<p>980 rows × 74 columns</p>\n",
       "</div>"
      ],
      "text/plain": [
       "     Summoner Id  teamId  participantId  champion         role    lane  \\\n",
       "0         Mashuu     100              1       235  DUO_SUPPORT  BOTTOM   \n",
       "1         ìrelia     100              2       268         SOLO     TOP   \n",
       "2      Kyulkyung     100              3        61         SOLO  MIDDLE   \n",
       "3      yohanswer     100              4        62         NONE  JUNGLE   \n",
       "4     Clutchreal     100              5        81    DUO_CARRY  BOTTOM   \n",
       "..           ...     ...            ...       ...          ...     ...   \n",
       "975    BBoyoungg     200              6       203         NONE  JUNGLE   \n",
       "976       ìrelia     200              7       268         SOLO  MIDDLE   \n",
       "977  MissedLight     200              8        51    DUO_CARRY  BOTTOM   \n",
       "978    EliteLand     200              9       119         SOLO     TOP   \n",
       "979       NoEaze     200             10       235  DUO_SUPPORT  BOTTOM   \n",
       "\n",
       "     spell1  spell2  item1  item2  ...  summonerSpell2  team  \\\n",
       "0        21       4   2420   3864  ...           Flash  Blue   \n",
       "1        12       4   1056   3157  ...           Flash  Blue   \n",
       "2         4      12   3020   3157  ...        Teleport  Blue   \n",
       "3        11       4   3134   2055  ...           Flash  Blue   \n",
       "4         4       7   3042      0  ...            Heal  Blue   \n",
       "..      ...     ...    ...    ...  ...             ...   ...   \n",
       "975      11       4   1412   3071  ...           Flash   Red   \n",
       "976      12       4   1056   3191  ...           Flash   Red   \n",
       "977       7       4   2424   3095  ...           Flash   Red   \n",
       "978       4       7   3147   3072  ...            Heal   Red   \n",
       "979       3       4   3179   3111  ...           Flash   Red   \n",
       "\n",
       "             keystone                  item-1              item-2  \\\n",
       "0     Glacial Augment               Stopwatch   Black Mist Scythe   \n",
       "1      Hail of Blades            Doran's Ring  Zhonya's Hourglass   \n",
       "2          Phase Rush        Sorcerer's Shoes  Zhonya's Hourglass   \n",
       "3           Conqueror           Serrated Dirk        Control Ward   \n",
       "4           Conqueror                Muramana                 NaN   \n",
       "..                ...                     ...                 ...   \n",
       "975         Conqueror    Enchantment: Warrior       Black Cleaver   \n",
       "976      Lethal Tempo            Doran's Ring   Seeker's Armguard   \n",
       "977      Dark Harvest        Broken Stopwatch          Stormrazor   \n",
       "978  Press the Attack  Duskblade of Draktharr       Bloodthirster   \n",
       "979       Summon Aery           Umbral Glaive    Mercury's Treads   \n",
       "\n",
       "                       item-3              item-4                item-5  \\\n",
       "0      Duskblade of Draktharr       Umbral Glaive        Essence Reaver   \n",
       "1            Sorcerer's Shoes      Fiendish Codex               Stinger   \n",
       "2               Health Potion        Luden's Echo                   NaN   \n",
       "3            Mercury's Treads       Trinity Force  Enchantment: Warrior   \n",
       "4               Death's Dance       Trinity Force                   NaN   \n",
       "..                        ...                 ...                   ...   \n",
       "975  Blade of the Ruined King              Dagger        Negatron Cloak   \n",
       "976            Nashor's Tooth      Fiendish Codex      Sorcerer's Shoes   \n",
       "977       Berserker's Greaves       Doran's Blade                  Cull   \n",
       "978       Berserker's Greaves      Doran's Shield           B. F. Sword   \n",
       "979        Chalice of Harmony  Harrowing Crescent          Control Ward   \n",
       "\n",
       "                       item-6                   item-7  \n",
       "0          Boots of Swiftness              Oracle Lens  \n",
       "1                Doran's Ring  Warding Totem (Trinket)  \n",
       "2                         NaN  Warding Totem (Trinket)  \n",
       "3                         NaN              Oracle Lens  \n",
       "4    Ionian Boots of Lucidity      Farsight Alteration  \n",
       "..                        ...                      ...  \n",
       "975       Berserker's Greaves              Oracle Lens  \n",
       "976              Lost Chapter  Warding Totem (Trinket)  \n",
       "977               B. F. Sword  Warding Totem (Trinket)  \n",
       "978                   Pickaxe      Farsight Alteration  \n",
       "979                       NaN  Warding Totem (Trinket)  \n",
       "\n",
       "[980 rows x 74 columns]"
      ]
     },
     "execution_count": 5,
     "metadata": {},
     "output_type": "execute_result"
    }
   ],
   "source": [
    "df['Summoner Id'] = df['Summoner Id'].apply(lambda x: x.split(\"'\")[3])\n",
    "df"
   ]
  },
  {
   "cell_type": "code",
   "execution_count": 6,
   "metadata": {},
   "outputs": [],
   "source": [
    "# 98 games played after taking out 2 remakes\n",
    "df = df.loc[df['Summoner Id'] == 'ìrelia']\n",
    "df = df.loc[df['championName'] == 'Azir']"
   ]
  },
  {
   "cell_type": "code",
   "execution_count": 7,
   "metadata": {},
   "outputs": [],
   "source": [
    "# 95 games played of azir out of recent 100 games"
   ]
  },
  {
   "cell_type": "code",
   "execution_count": 8,
   "metadata": {},
   "outputs": [
    {
     "data": {
      "text/plain": [
       "Teleport    93\n",
       "Ignite       2\n",
       "Name: summonerSpell1, dtype: int64"
      ]
     },
     "execution_count": 8,
     "metadata": {},
     "output_type": "execute_result"
    }
   ],
   "source": [
    "df.summonerSpell1.value_counts()"
   ]
  },
  {
   "cell_type": "code",
   "execution_count": 9,
   "metadata": {},
   "outputs": [
    {
     "data": {
      "text/plain": [
       "Flash    95\n",
       "Name: summonerSpell2, dtype: int64"
      ]
     },
     "execution_count": 9,
     "metadata": {},
     "output_type": "execute_result"
    }
   ],
   "source": [
    "df.summonerSpell2.value_counts()"
   ]
  },
  {
   "cell_type": "code",
   "execution_count": 10,
   "metadata": {
    "scrolled": true
   },
   "outputs": [
    {
     "data": {
      "text/plain": [
       "Conqueror         65\n",
       "Lethal Tempo      14\n",
       "Arcane Comet       6\n",
       "Hail of Blades     5\n",
       "Dark Harvest       5\n",
       "Name: keystone, dtype: int64"
      ]
     },
     "execution_count": 10,
     "metadata": {},
     "output_type": "execute_result"
    }
   ],
   "source": [
    "df.keystone.value_counts()"
   ]
  },
  {
   "cell_type": "code",
   "execution_count": 11,
   "metadata": {
    "scrolled": true
   },
   "outputs": [
    {
     "data": {
      "text/plain": [
       "Nashor's Tooth             85.0\n",
       "Sorcerer's Shoes           62.0\n",
       "Doran's Ring               61.0\n",
       "Zhonya's Hourglass         44.0\n",
       "Morellonomicon             35.0\n",
       "Needlessly Large Rod       22.0\n",
       "Mercury's Treads           21.0\n",
       "Rabadon's Deathcap         20.0\n",
       "Liandry's Torment          20.0\n",
       "Control Ward               19.0\n",
       "Seeker's Armguard          17.0\n",
       "Blasting Wand              12.0\n",
       "Banshee's Veil             10.0\n",
       "Fiendish Codex              9.0\n",
       "Rylai's Crystal Scepter     9.0\n",
       "Boots of Speed              7.0\n",
       "Oblivion Orb                7.0\n",
       "Negatron Cloak              7.0\n",
       "Luden's Echo                6.0\n",
       "Null-Magic Mantle           6.0\n",
       "Broken Stopwatch            6.0\n",
       "Haunting Guise              6.0\n",
       "Amplifying Tome             5.0\n",
       "Void Staff                  5.0\n",
       "Ninja Tabi                  5.0\n",
       "Stopwatch                   4.0\n",
       "Spellbinder                 4.0\n",
       "Dagger                      2.0\n",
       "Refillable Potion           2.0\n",
       "Ruby Crystal                2.0\n",
       "Lost Chapter                1.0\n",
       "Stinger                     1.0\n",
       "Dark Seal                   1.0\n",
       "Cloth Armor                 1.0\n",
       "Shard of True Ice           1.0\n",
       "dtype: float64"
      ]
     },
     "execution_count": 11,
     "metadata": {},
     "output_type": "execute_result"
    }
   ],
   "source": [
    "items = df[['item-1', 'item-2', 'item-3', 'item-4', 'item-5', 'item-6']].apply(pd.Series.value_counts)\n",
    "items =items.sum(axis=1)\n",
    "items = items.sort_values(ascending=False)\n",
    "items"
   ]
  },
  {
   "cell_type": "code",
   "execution_count": 12,
   "metadata": {
    "scrolled": false
   },
   "outputs": [
    {
     "data": {
      "text/plain": [
       "Text(0.5, 1.0, 'Most Common Purchased Items on Azir')"
      ]
     },
     "execution_count": 12,
     "metadata": {},
     "output_type": "execute_result"
    },
    {
     "data": {
      "image/png": "[encoded data removed]",
      "text/plain": [
       "<Figure size 2160x1080 with 1 Axes>"
      ]
     },
     "metadata": {
      "needs_background": "light"
     },
     "output_type": "display_data"
    }
   ],
   "source": [
    "items.plot(kind='barh', figsize=(30,15))\n",
    "plt.ylabel('Item',fontsize=30)\n",
    "plt.yticks(fontsize = 20)\n",
    "plt.xlabel('Number of Purchases',fontsize=30)\n",
    "plt.xticks(fontsize = 20)\n",
    "plt.title('Most Common Purchased Items on Azir',fontsize=30)"
   ]
  },
  {
   "cell_type": "code",
   "execution_count": 13,
   "metadata": {},
   "outputs": [
    {
     "data": {
      "text/plain": [
       "Warding Totem (Trinket)    59\n",
       "Farsight Alteration        29\n",
       "Oracle Lens                 7\n",
       "Name: item-7, dtype: int64"
      ]
     },
     "execution_count": 13,
     "metadata": {},
     "output_type": "execute_result"
    }
   ],
   "source": [
    "df['item-7'].value_counts()"
   ]
  },
  {
   "cell_type": "code",
   "execution_count": 14,
   "metadata": {},
   "outputs": [
    {
     "data": {
      "text/plain": [
       "True     53\n",
       "False    42\n",
       "Name: win, dtype: int64"
      ]
     },
     "execution_count": 14,
     "metadata": {},
     "output_type": "execute_result"
    }
   ],
   "source": [
    "df.win.value_counts()"
   ]
  },
  {
   "cell_type": "code",
   "execution_count": 15,
   "metadata": {},
   "outputs": [
    {
     "data": {
      "text/plain": [
       "55.78947368421052"
      ]
     },
     "execution_count": 15,
     "metadata": {},
     "output_type": "execute_result"
    }
   ],
   "source": [
    "Win_Ratio = (53/(42+53)*100)\n",
    "Win_Ratio"
   ]
  },
  {
   "cell_type": "code",
   "execution_count": 16,
   "metadata": {},
   "outputs": [
    {
     "name": "stdout",
     "output_type": "stream",
     "text": [
      "count    95.000000\n",
      "mean      5.863158\n",
      "std       3.726303\n",
      "min       0.000000\n",
      "25%       3.000000\n",
      "50%       5.000000\n",
      "75%       8.500000\n",
      "max      16.000000\n",
      "Name: kills, dtype: float64 count    95.000000\n",
      "mean      5.189474\n",
      "std       2.502317\n",
      "min       0.000000\n",
      "25%       3.500000\n",
      "50%       5.000000\n",
      "75%       7.000000\n",
      "max      14.000000\n",
      "Name: deaths, dtype: float64 count    95.000000\n",
      "mean      7.778947\n",
      "std       4.305313\n",
      "min       1.000000\n",
      "25%       5.000000\n",
      "50%       7.000000\n",
      "75%      10.000000\n",
      "max      20.000000\n",
      "Name: assists, dtype: float64\n"
     ]
    }
   ],
   "source": [
    "kills = df.kills.describe()\n",
    "deaths = df.deaths.describe()\n",
    "assists = df.assists.describe()\n",
    "print(kills, deaths, assists)"
   ]
  },
  {
   "cell_type": "code",
   "execution_count": 17,
   "metadata": {},
   "outputs": [],
   "source": [
    "KDA = (df['kills'] + df['assists']) / df['deaths']\n",
    "KDA = round(KDA, 2)\n",
    "KDA = KDA.drop(labels = [864])"
   ]
  },
  {
   "cell_type": "code",
   "execution_count": 18,
   "metadata": {},
   "outputs": [
    {
     "data": {
      "text/plain": [
       "count    94.000000\n",
       "mean      3.280957\n",
       "std       2.483613\n",
       "min       0.500000\n",
       "25%       1.500000\n",
       "50%       2.915000\n",
       "75%       4.105000\n",
       "max      17.000000\n",
       "dtype: float64"
      ]
     },
     "execution_count": 18,
     "metadata": {},
     "output_type": "execute_result"
    }
   ],
   "source": [
    "# one game had perfect KDA\n",
    "KDA.describe()"
   ]
  },
  {
   "cell_type": "code",
   "execution_count": 19,
   "metadata": {},
   "outputs": [],
   "source": [
    "double_kills = df.doubleKills.sum()\n",
    "triple_kills = df.tripleKills.sum()\n",
    "quadra_kills = df.quadraKills.sum()\n",
    "penta_kills = df.pentaKills.sum()\n",
    "\n",
    "kills_dict = {'Double Kills:': double_kills, 'Triple kills:': triple_kills, 'Quadra kills:' : quadra_kills, 'Penta kills:' : penta_kills}"
   ]
  },
  {
   "cell_type": "code",
   "execution_count": 20,
   "metadata": {},
   "outputs": [
    {
     "name": "stdout",
     "output_type": "stream",
     "text": [
      "Double Kills: 61\n",
      "Triple kills: 8\n",
      "Quadra kills: 1\n",
      "Penta kills: 1\n"
     ]
    }
   ],
   "source": [
    "for key, value in kills_dict.items():\n",
    "    print(key, value)"
   ]
  },
  {
   "cell_type": "code",
   "execution_count": 21,
   "metadata": {},
   "outputs": [
    {
     "data": {
      "text/plain": [
       "count       95.000000\n",
       "mean     19772.757895\n",
       "std      10139.478714\n",
       "min       2679.000000\n",
       "25%      12010.500000\n",
       "50%      19119.000000\n",
       "75%      24104.500000\n",
       "max      62370.000000\n",
       "Name: totalDamageDealtToChampions, dtype: float64"
      ]
     },
     "execution_count": 21,
     "metadata": {},
     "output_type": "execute_result"
    }
   ],
   "source": [
    "df.totalDamageDealtToChampions.describe()"
   ]
  },
  {
   "cell_type": "code",
   "execution_count": 22,
   "metadata": {},
   "outputs": [
    {
     "data": {
      "text/plain": [
       "count       95.000000\n",
       "mean     11530.347368\n",
       "std       3193.876411\n",
       "min       4760.000000\n",
       "25%       9402.000000\n",
       "50%      11518.000000\n",
       "75%      13243.500000\n",
       "max      25415.000000\n",
       "Name: goldEarned, dtype: float64"
      ]
     },
     "execution_count": 22,
     "metadata": {},
     "output_type": "execute_result"
    }
   ],
   "source": [
    "df.goldEarned.describe()"
   ]
  },
  {
   "cell_type": "code",
   "execution_count": 23,
   "metadata": {},
   "outputs": [
    {
     "data": {
      "text/plain": [
       "10     1\n",
       "11     4\n",
       "12     5\n",
       "13    14\n",
       "14    16\n",
       "15    20\n",
       "16    12\n",
       "17     9\n",
       "18    14\n",
       "Name: champLevel, dtype: int64"
      ]
     },
     "execution_count": 23,
     "metadata": {},
     "output_type": "execute_result"
    }
   ],
   "source": [
    "df.champLevel.value_counts().sort_index(ascending=True)"
   ]
  },
  {
   "cell_type": "code",
   "execution_count": 24,
   "metadata": {},
   "outputs": [
    {
     "data": {
      "text/plain": [
       "3      1\n",
       "4      5\n",
       "5      4\n",
       "6      8\n",
       "7      7\n",
       "8     10\n",
       "9     20\n",
       "10    16\n",
       "11     9\n",
       "12     6\n",
       "13     6\n",
       "14     2\n",
       "17     1\n",
       "Name: wardsPlaced, dtype: int64"
      ]
     },
     "execution_count": 24,
     "metadata": {},
     "output_type": "execute_result"
    }
   ],
   "source": [
    "df.wardsPlaced.value_counts().sort_index(ascending=True)"
   ]
  },
  {
   "cell_type": "code",
   "execution_count": 25,
   "metadata": {},
   "outputs": [
    {
     "data": {
      "text/plain": [
       "count    95.000000\n",
       "mean      8.989474\n",
       "std       2.631619\n",
       "min       3.000000\n",
       "25%       7.000000\n",
       "50%       9.000000\n",
       "75%      10.500000\n",
       "max      17.000000\n",
       "Name: wardsPlaced, dtype: float64"
      ]
     },
     "execution_count": 25,
     "metadata": {},
     "output_type": "execute_result"
    }
   ],
   "source": [
    "df.wardsPlaced.describe()"
   ]
  },
  {
   "cell_type": "code",
   "execution_count": 26,
   "metadata": {},
   "outputs": [
    {
     "data": {
      "text/plain": [
       "False    89\n",
       "True      6\n",
       "Name: firstBloodKill, dtype: int64"
      ]
     },
     "execution_count": 26,
     "metadata": {},
     "output_type": "execute_result"
    }
   ],
   "source": [
    "df.firstBloodKill.value_counts()"
   ]
  },
  {
   "cell_type": "code",
   "execution_count": 27,
   "metadata": {},
   "outputs": [
    {
     "data": {
      "text/plain": [
       "False    95\n",
       "Name: firstBloodAssist, dtype: int64"
      ]
     },
     "execution_count": 27,
     "metadata": {},
     "output_type": "execute_result"
    }
   ],
   "source": [
    "df.firstBloodAssist.value_counts()"
   ]
  },
  {
   "cell_type": "code",
   "execution_count": 28,
   "metadata": {},
   "outputs": [
    {
     "data": {
      "text/plain": [
       "False    90\n",
       "True      5\n",
       "Name: firstTowerKill, dtype: int64"
      ]
     },
     "execution_count": 28,
     "metadata": {},
     "output_type": "execute_result"
    }
   ],
   "source": [
    "df.firstTowerKill.value_counts()"
   ]
  },
  {
   "cell_type": "code",
   "execution_count": 29,
   "metadata": {},
   "outputs": [
    {
     "data": {
      "text/plain": [
       "False    89\n",
       "True      6\n",
       "Name: firstTowerAssist, dtype: int64"
      ]
     },
     "execution_count": 29,
     "metadata": {},
     "output_type": "execute_result"
    }
   ],
   "source": [
    "df.firstTowerAssist.value_counts()"
   ]
  },
  {
   "cell_type": "code",
   "execution_count": 30,
   "metadata": {},
   "outputs": [
    {
     "data": {
      "text/plain": [
       "count     95.0000\n",
       "mean     177.2000\n",
       "std       48.6996\n",
       "min       23.0000\n",
       "25%      145.5000\n",
       "50%      170.0000\n",
       "75%      200.0000\n",
       "max      405.0000\n",
       "Name: totalMinionsKilled, dtype: float64"
      ]
     },
     "execution_count": 30,
     "metadata": {},
     "output_type": "execute_result"
    }
   ],
   "source": [
    "df.totalMinionsKilled.describe()"
   ]
  },
  {
   "cell_type": "code",
   "execution_count": null,
   "metadata": {},
   "outputs": [],
   "source": []
  }
 ],
 "metadata": {
  "kernelspec": {
   "display_name": "Python 3",
   "language": "python",
   "name": "python3"
  },
  "language_info": {
   "codemirror_mode": {
    "name": "ipython",
    "version": 3
   },
   "file_extension": ".py",
   "mimetype": "text/x-python",
   "name": "python",
   "nbconvert_exporter": "python",
   "pygments_lexer": "ipython3",
   "version": "3.7.6"
  }
 },
 "nbformat": 4,
 "nbformat_minor": 4
}
