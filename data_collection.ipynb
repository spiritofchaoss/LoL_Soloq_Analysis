{
 "cells": [
  {
   "cell_type": "code",
   "execution_count": 1,
   "metadata": {},
   "outputs": [],
   "source": [
    "from riotwatcher import LolWatcher, ApiError\n",
    "import pandas as pd\n",
    "\n",
    "# using riotwatcher wrapper & setting some required variables\n",
    "\n",
    "lol_watcher = LolWatcher('RGAPI-XXXXXXXXXXXXXXXXXXXXXXXXXXXXXX')\n",
    "my_region = 'na1'"
   ]
  },
  {
   "cell_type": "code",
   "execution_count": 2,
   "metadata": {
    "scrolled": true
   },
   "outputs": [],
   "source": [
    "# getting few more varibales needed from riot api\n",
    "\n",
    "me = lol_watcher.summoner.by_name(my_region, 'ìrelia')\n",
    "\n",
    "summonerId = me['id']\n",
    "accountId = me['accountId']"
   ]
  },
  {
   "cell_type": "code",
   "execution_count": 3,
   "metadata": {
    "scrolled": true
   },
   "outputs": [],
   "source": [
    "# getting a matchlist\n",
    "\n",
    "matchlist = lol_watcher.match.matchlist_by_account(my_region, accountId)\n",
    "correctedMatchlist = matchlist['matches']"
   ]
  },
  {
   "cell_type": "code",
   "execution_count": 4,
   "metadata": {},
   "outputs": [],
   "source": [
    "# getting a list of gameId from past 100 games\n",
    "listGameId = [match['gameId'] for match in correctedMatchlist]\n",
    "\n",
    "# manually removing my personal ranked games that are remakes\n",
    "recentGames = listGameId[0:4]+ listGameId[5:26]+ listGameId[27:100]"
   ]
  },
  {
   "cell_type": "code",
   "execution_count": 6,
   "metadata": {},
   "outputs": [],
   "source": [
    "# created dataframe from stats given by league api\n",
    "RecentGameInfo = [lol_watcher.match.by_id(my_region, game) for game in recentGames]\n",
    "participantInfo = []\n",
    "summonerIdInfo = []\n",
    "for game in RecentGameInfo:\n",
    "    if game['gameMode'] == 'CLASSIC':        # only iterate through ranked games\n",
    "        for row in game['participants']:\n",
    "            leagueData = {}\n",
    "            leagueData['teamId'] = row['teamId']\n",
    "            leagueData['participantId'] = row['participantId']\n",
    "            leagueData['champion'] = row['championId']\n",
    "            leagueData['role'] = row['timeline']['role']\n",
    "            leagueData['lane'] = row['timeline']['lane']        \n",
    "            leagueData['spell1'] = row['spell1Id']\n",
    "            leagueData['spell2'] = row['spell2Id']\n",
    "            leagueData['item1'] = row['stats']['item0']\n",
    "            leagueData['item2'] = row['stats']['item1']\n",
    "            leagueData['item3'] = row['stats']['item2']\n",
    "            leagueData['item4'] = row['stats']['item3']\n",
    "            leagueData['item5'] = row['stats']['item4']\n",
    "            leagueData['item6'] = row['stats']['item5']\n",
    "            leagueData['item7'] = row['stats']['item6']\n",
    "            leagueData['win'] = row['stats']['win']\n",
    "            leagueData['kills'] = row['stats']['kills']\n",
    "            leagueData['deaths'] = row['stats']['deaths']\n",
    "            leagueData['assists'] = row['stats']['assists']\n",
    "            leagueData['largestKillingSpree'] = row['stats']['largestKillingSpree']\n",
    "            leagueData['killingSprees'] = row['stats']['killingSprees']\n",
    "            leagueData['largestMultiKill'] = row['stats']['largestMultiKill']\n",
    "            leagueData['doubleKills'] = row['stats']['doubleKills']\n",
    "            leagueData['tripleKills'] = row['stats']['tripleKills']\n",
    "            leagueData['quadraKills'] = row['stats']['quadraKills']\n",
    "            leagueData['pentaKills'] = row['stats']['pentaKills']\n",
    "            leagueData['longestTimeSpentLiving'] = row['stats']['longestTimeSpentLiving']\n",
    "            leagueData['totalDamageDealt'] = row['stats']['totalDamageDealt']\n",
    "            leagueData['magicDamageDealt'] = row['stats']['magicDamageDealt']\n",
    "            leagueData['physicalDamageDealt'] = row['stats']['physicalDamageDealt']\n",
    "            leagueData['trueDamageDealt'] = row['stats']['trueDamageDealt']\n",
    "            leagueData['largestCriticalStrike'] = row['stats']['largestCriticalStrike']\n",
    "            leagueData['totalDamageDealtToChampions'] = row['stats']['totalDamageDealtToChampions']\n",
    "            leagueData['magicDamageDealtToChampions'] = row['stats']['magicDamageDealtToChampions']\n",
    "            leagueData['physicalDamageDealtToChampions'] = row['stats']['physicalDamageDealtToChampions']\n",
    "            leagueData['trueDamageDealtToChampions'] = row['stats']['trueDamageDealtToChampions']\n",
    "            leagueData['totalDamageTaken'] = row['stats']['totalDamageTaken']\n",
    "            leagueData['magicalDamageTaken'] = row['stats']['magicalDamageTaken']\n",
    "            leagueData['physicalDamageTaken'] = row['stats']['physicalDamageTaken']\n",
    "            leagueData['trueDamageTaken'] = row['stats']['trueDamageTaken']\n",
    "            leagueData['goldEarned'] = row['stats']['goldEarned']\n",
    "            leagueData['goldSpent'] = row['stats']['goldSpent']\n",
    "            leagueData['turretKills'] = row['stats']['turretKills']\n",
    "            leagueData['inhibitorKills'] = row['stats']['inhibitorKills']\n",
    "            leagueData['totalMinionsKilled'] = row['stats']['totalMinionsKilled']\n",
    "            leagueData['neutralMinionsKilled'] = row['stats']['neutralMinionsKilled']\n",
    "            leagueData['neutralMinionsKilledTeamJungle'] = row['stats']['neutralMinionsKilledTeamJungle']\n",
    "            leagueData['neutralMinionsKilledEnemyJungle'] = row['stats']['neutralMinionsKilledEnemyJungle']\n",
    "            leagueData['champLevel'] = row['stats']['champLevel']\n",
    "            leagueData['visionWardsBoughtInGame'] = row['stats']['visionWardsBoughtInGame']\n",
    "            leagueData['sightWardsBoughtInGame'] = row['stats']['sightWardsBoughtInGame']\n",
    "            leagueData['visionScore'] = row['stats']['visionScore']\n",
    "            leagueData['wardsPlaced'] = row['stats']['wardsPlaced']\n",
    "            leagueData['wardsKilled'] = row['stats']['wardsKilled']\n",
    "            leagueData['firstBloodKill'] = row['stats']['firstBloodKill']\n",
    "            leagueData['firstBloodAssist'] = row['stats']['firstBloodAssist']\n",
    "            leagueData['firstTowerKill'] = row['stats']['firstTowerKill']\n",
    "            leagueData['firstTowerAssist'] = row['stats']['firstTowerAssist']\n",
    "            leagueData['primaryKeystone'] = row['stats']['perk0']\n",
    "            leagueData['creepsPerMinDeltas'] = row['timeline']['creepsPerMinDeltas']\n",
    "            leagueData['xpPerMinDeltas'] = row['timeline']['xpPerMinDeltas']\n",
    "            leagueData['goldPerMinDeltas'] = row['timeline']['goldPerMinDeltas']\n",
    "            participantInfo.append(leagueData)\n",
    "        for row in game['participantIdentities']:\n",
    "            leagueData2 = {}\n",
    "            leagueData2['summonerName'] = row['player']['summonerName']\n",
    "            summonerIdInfo.append(leagueData2)\n",
    "    else:               # skip aram and normal games\n",
    "        continue\n",
    "    \n",
    "dfLeagueStats = pd.DataFrame(participantInfo, summonerIdInfo)"
   ]
  },
  {
   "cell_type": "code",
   "execution_count": 7,
   "metadata": {},
   "outputs": [],
   "source": [
    "# getting latest version number of each datadragon type\n",
    "latestChampions = lol_watcher.data_dragon.versions_for_region(my_region)['n']['champion']\n",
    "latestItems = lol_watcher.data_dragon.versions_for_region(my_region)['n']['item']\n",
    "latestKeystone = lol_watcher.data_dragon.versions_for_region(my_region)['n']['sticker']\n",
    "latestSummoner = lol_watcher.data_dragon.versions_for_region(my_region)['n']['summoner']\n",
    "\n",
    "# getting different information into its own unique list \n",
    "championList = lol_watcher.data_dragon.champions(latestChampions, False, 'en_US')\n",
    "itemsList = lol_watcher.data_dragon.items(latestItems)\n",
    "itemsList = itemsList['data']\n",
    "keystoneList = lol_watcher.data_dragon.runes_reforged(latestKeystone)\n",
    "summonerSpellList = lol_watcher.data_dragon.summoner_spells(latestSummoner)"
   ]
  },
  {
   "cell_type": "code",
   "execution_count": 8,
   "metadata": {
    "scrolled": true
   },
   "outputs": [],
   "source": [
    "# creating dictionary of champions with its corresponding number from list created above\n",
    "champDict = {}\n",
    "for key in championList['data']:\n",
    "    row = championList['data'][key]\n",
    "    champDict[row['key']] = row['id']\n",
    "for row in participantInfo:\n",
    "    row['championName'] = champDict[str(row['champion'])]\n",
    "\n",
    "# updating df to add column w/ champion name based off champion number    \n",
    "dfLeagueStats = pd.DataFrame(participantInfo, summonerIdInfo)"
   ]
  },
  {
   "cell_type": "code",
   "execution_count": 9,
   "metadata": {},
   "outputs": [],
   "source": [
    "# creating dictionary of summoner spell with its corresponding number from list created above\n",
    "summonerSpellDict = {}\n",
    "for key in summonerSpellList['data']:\n",
    "    row = summonerSpellList['data'][key]\n",
    "    summonerSpellDict[row['key']] = row['name']\n",
    "for row in participantInfo:\n",
    "    row['summonerSpell1'] = summonerSpellDict[str(row['spell1'])]\n",
    "    row['summonerSpell2'] = summonerSpellDict[str(row['spell2'])]\n",
    "    \n",
    "# updating df to add column w/ summoner spell based off summoner spell number       \n",
    "dfLeagueStats = pd.DataFrame(participantInfo, summonerIdInfo)"
   ]
  },
  {
   "cell_type": "code",
   "execution_count": 10,
   "metadata": {},
   "outputs": [],
   "source": [
    "# creating dictionary corresponding what number is blue/red side\n",
    "teamDict = {'100': 'Blue', '200': 'Red'}\n",
    "for row in participantInfo:\n",
    "    row['team'] = teamDict[str(row['teamId'])]\n",
    "    \n",
    "# updating df to add in if the user is in blue or red team\n",
    "dfLeagueStats = pd.DataFrame(participantInfo, summonerIdInfo)"
   ]
  },
  {
   "cell_type": "code",
   "execution_count": 11,
   "metadata": {},
   "outputs": [],
   "source": [
    "# creating dictionary of keystone with its corresponding number\n",
    "keystoneDict = {'8112': 'Electrocute',\n",
    "                '8124': 'Predator',\n",
    "                '8128': 'Dark Harvest',\n",
    "                '9923': 'Hail of Blades',\n",
    "                '8351': 'Glacial Augment',\n",
    "                '8359': 'Kleptomancy',\n",
    "                '8360': 'Unsealed Spellbook',\n",
    "                '8358': 'Prototype: Omnistone',\n",
    "                '8005': 'Press the Attack',\n",
    "                '8008': 'Lethal Tempo',\n",
    "                '8021': 'Fleet Footwork',\n",
    "                '8010': 'Conqueror',\n",
    "                '8437': 'Grasp of the Undying',\n",
    "                '8439': 'Aftershock',\n",
    "                '8465': 'Guardian',\n",
    "                '8214': 'Summon Aery',\n",
    "                '8229': 'Arcane Comet',\n",
    "                '8230': 'Phase Rush'}\n",
    "for row in participantInfo:\n",
    "    row['keystone'] = keystoneDict[str(row['primaryKeystone'])]\n",
    "\n",
    "# updating df to add in what keystone user used\n",
    "dfLeagueStats = pd.DataFrame(participantInfo, summonerIdInfo)"
   ]
  },
  {
   "cell_type": "code",
   "execution_count": 12,
   "metadata": {},
   "outputs": [],
   "source": [
    "# creating dictionary of items with its corresponding number from list created above\n",
    "itemDict = []\n",
    "for key, value in itemsList.items():\n",
    "    item_row = {}\n",
    "    item_row[key] = value['name']\n",
    "    itemDict.append(item_row)\n",
    "\n",
    "updatedItemDict = {}\n",
    "for d in itemDict:\n",
    "    updatedItemDict.update(d)\n",
    "\n",
    "updatedItemDict['0'] = 'N/A'   # zero denotes no items in inventory slot\n",
    "\n",
    "for row in participantInfo:\n",
    "    row['item-1'] = updatedItemDict[str(row['item1'])]\n",
    "    row['item-2'] = updatedItemDict[str(row['item2'])]\n",
    "    row['item-3'] = updatedItemDict[str(row['item3'])]\n",
    "    row['item-4'] = updatedItemDict[str(row['item4'])]\n",
    "    row['item-5'] = updatedItemDict[str(row['item5'])]\n",
    "    row['item-6'] = updatedItemDict[str(row['item6'])]\n",
    "    row['item-7'] = updatedItemDict[str(row['item7'])]\n",
    "    \n",
    "# updating df to add in what items user purchased\n",
    "dfLeagueStats = pd.DataFrame(participantInfo, summonerIdInfo)"
   ]
  },
  {
   "cell_type": "code",
   "execution_count": 13,
   "metadata": {},
   "outputs": [],
   "source": [
    "dfLeagueStats.to_csv('master_data_soloq.csv')"
   ]
  }
 ],
 "metadata": {
  "kernelspec": {
   "display_name": "Python 3",
   "language": "python",
   "name": "python3"
  },
  "language_info": {
   "codemirror_mode": {
    "name": "ipython",
    "version": 3
   },
   "file_extension": ".py",
   "mimetype": "text/x-python",
   "name": "python",
   "nbconvert_exporter": "python",
   "pygments_lexer": "ipython3",
   "version": "3.7.6"
  }
 },
 "nbformat": 4,
 "nbformat_minor": 4
}
